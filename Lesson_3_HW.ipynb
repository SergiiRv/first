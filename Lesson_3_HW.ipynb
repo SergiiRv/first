{
  "nbformat": 4,
  "nbformat_minor": 0,
  "metadata": {
    "kernelspec": {
      "display_name": "Python 3",
      "language": "python",
      "name": "python3"
    },
    "language_info": {
      "codemirror_mode": {
        "name": "ipython",
        "version": 3
      },
      "file_extension": ".py",
      "mimetype": "text/x-python",
      "name": "python",
      "nbconvert_exporter": "python",
      "pygments_lexer": "ipython3",
      "version": "3.8.2"
    },
    "colab": {
      "name": "Lesson 3 HW.ipynb",
      "provenance": [],
      "collapsed_sections": [],
      "include_colab_link": true
    }
  },
  "cells": [
    {
      "cell_type": "markdown",
      "metadata": {
        "id": "view-in-github",
        "colab_type": "text"
      },
      "source": [
        "<a href=\"https://colab.research.google.com/github/SergiiRv/first/blob/master/Lesson_3_HW.ipynb\" target=\"_parent\"><img src=\"https://colab.research.google.com/assets/colab-badge.svg\" alt=\"Open In Colab\"/></a>"
      ]
    },
    {
      "cell_type": "code",
      "metadata": {
        "id": "1Tc9pAJqrhWj"
      },
      "source": [
        "import numpy as np\n",
        "import matplotlib.pyplot as plt"
      ],
      "execution_count": 2,
      "outputs": []
    },
    {
      "cell_type": "code",
      "metadata": {
        "id": "JuaB3uNYrhWv"
      },
      "source": [
        "from sklearn.datasets import make_regression\n",
        "\n",
        "X, y = make_regression(n_samples=1000, n_features=100, n_informative=10)"
      ],
      "execution_count": 3,
      "outputs": []
    },
    {
      "cell_type": "code",
      "metadata": {
        "id": "65OvEMnSrhWz",
        "outputId": "daafceda-9e63-4a25-c6b2-6272ff8725e2",
        "colab": {
          "base_uri": "https://localhost:8080/"
        }
      },
      "source": [
        "X.shape, y.shape, y[:,None].shape"
      ],
      "execution_count": 34,
      "outputs": [
        {
          "output_type": "execute_result",
          "data": {
            "text/plain": [
              "((1000, 100), (1000,), (1000, 1))"
            ]
          },
          "metadata": {
            "tags": []
          },
          "execution_count": 34
        }
      ]
    },
    {
      "cell_type": "code",
      "metadata": {
        "id": "9B5pAjn0saQ-",
        "outputId": "bdd8cc19-0ee1-4f64-ff3b-d1da00d2bdff",
        "colab": {
          "base_uri": "https://localhost:8080/",
          "height": 282
        }
      },
      "source": [
        "plt.scatter(X[:,0],y)"
      ],
      "execution_count": 5,
      "outputs": [
        {
          "output_type": "execute_result",
          "data": {
            "text/plain": [
              "<matplotlib.collections.PathCollection at 0x7fd2e92dada0>"
            ]
          },
          "metadata": {
            "tags": []
          },
          "execution_count": 5
        },
        {
          "output_type": "display_data",
          "data": {
            "image/png": "[encoded data removed]",
            "text/plain": [
              "<Figure size 432x288 with 1 Axes>"
            ]
          },
          "metadata": {
            "tags": [],
            "needs_background": "light"
          }
        }
      ]
    },
    {
      "cell_type": "code",
      "metadata": {
        "id": "yOcUIU87rhW6"
      },
      "source": [
        "from numpy import linalg\n",
        "\n",
        "xt = X.T\n",
        "#xt = X.transpose()\n",
        "B = linalg.inv((xt@X)).dot(xt)@y"
      ],
      "execution_count": 6,
      "outputs": []
    },
    {
      "cell_type": "code",
      "metadata": {
        "id": "w58P-g3crhW_",
        "outputId": "06e589fe-50e8-4530-de9c-5c18c7fc9478",
        "colab": {
          "base_uri": "https://localhost:8080/"
        }
      },
      "source": [
        "print(B)"
      ],
      "execution_count": 7,
      "outputs": [
        {
          "output_type": "stream",
          "text": [
            "[-6.10622664e-15  3.10862447e-15  7.54951657e-15 -3.10862447e-15\n",
            " -3.55271368e-15 -3.55271368e-15 -4.44089210e-16 -4.44089210e-15\n",
            " -6.66133815e-16 -3.99680289e-15 -3.55271368e-15 -5.77315973e-15\n",
            " -7.42461648e-15 -8.88178420e-16  1.24344979e-14  1.24344979e-14\n",
            "  2.66453526e-15 -7.10542736e-15  9.05335608e+01  6.66133815e-15\n",
            "  7.99360578e-15 -5.32907052e-15 -1.50990331e-14 -9.76996262e-15\n",
            " -1.77635684e-15 -8.43769499e-15 -4.44089210e-16 -3.99680289e-15\n",
            "  5.58666603e+01 -3.83720833e-15  4.21884749e-15  3.99680289e-15\n",
            "  4.44089210e-16  3.33066907e-15  1.77635684e-15 -8.43769499e-15\n",
            "  3.50243470e+01 -6.21724894e-15  6.59817109e+01 -2.10942375e-15\n",
            "  5.77315973e-15 -1.55431223e-15  5.32907052e-15 -5.10702591e-15\n",
            "  1.19904087e-14  1.77635684e-15  3.55271368e-15 -9.32587341e-15\n",
            "  6.07957007e+01  2.22044605e-15 -1.44328993e-15  5.77315973e-15\n",
            "  1.88737914e-15  5.72498277e+01  1.37899957e+01 -2.33146835e-15\n",
            " -1.33226763e-15  8.88178420e-16 -4.99600361e-15 -2.44249065e-15\n",
            "  9.76996262e-15 -6.21724894e-15  8.88178420e-16 -6.66133815e-16\n",
            "  4.66293670e-15  6.21724894e-15 -5.32907052e-15  4.44089210e-15\n",
            "  1.33226763e-15 -5.32907052e-15  4.44089210e-16 -5.32907052e-15\n",
            "  2.22044605e-15  3.55271368e-15  1.33226763e-14 -8.43769499e-15\n",
            " -1.55431223e-15  9.76996262e-15  7.54951657e-15 -1.24344979e-14\n",
            "  3.97162194e+01  3.99680289e-15  9.32587341e-15  6.21724894e-15\n",
            "  9.76996262e-15  2.66453526e-15 -8.21565038e-15  1.77635684e-15\n",
            "  3.99680289e-15 -3.99680289e-15  4.66021197e+01  4.71844785e-16\n",
            "  5.81148922e+01  5.66213743e-15 -2.66453526e-15  1.77635684e-15\n",
            "  1.77635684e-15  8.88178420e-16 -6.21724894e-15  1.77635684e-15]\n"
          ],
          "name": "stdout"
        }
      ]
    },
    {
      "cell_type": "code",
      "metadata": {
        "id": "QTw3YwOArhXC"
      },
      "source": [
        "y_pred = X @ B\n",
        "mse_loss = np.sum((y - y_pred) ** 2)"
      ],
      "execution_count": 8,
      "outputs": []
    },
    {
      "cell_type": "code",
      "metadata": {
        "id": "11FApknJrhXE",
        "outputId": "cfb09dd7-016d-404e-a988-34eb4ec5523c",
        "colab": {
          "base_uri": "https://localhost:8080/"
        }
      },
      "source": [
        "print(mse_loss)"
      ],
      "execution_count": 9,
      "outputs": [
        {
          "output_type": "stream",
          "text": [
            "9.304939584990012e-24\n"
          ],
          "name": "stdout"
        }
      ]
    },
    {
      "cell_type": "code",
      "metadata": {
        "id": "pMZyxmplrhXH"
      },
      "source": [
        "from sklearn.model_selection import train_test_split\n",
        "\n",
        "X_train, y_train, X_test, y_test = train_test_split(X, y)"
      ],
      "execution_count": 10,
      "outputs": []
    },
    {
      "cell_type": "code",
      "metadata": {
        "id": "6lLlRpuNrhXP"
      },
      "source": [
        "N = 10\n",
        "b1 = np.random.rand(100, N)\n",
        "b2 = np.random.rand(N, 1)\n",
        "lr = 0.0001"
      ],
      "execution_count": 35,
      "outputs": []
    },
    {
      "cell_type": "code",
      "metadata": {
        "id": "B1hG9WqMtaEi",
        "outputId": "97683d07-1243-472d-c9fe-37e3fe03e4d1",
        "colab": {
          "base_uri": "https://localhost:8080/"
        }
      },
      "source": [
        "b1.shape, b2.shape, X_train.shape"
      ],
      "execution_count": 36,
      "outputs": [
        {
          "output_type": "execute_result",
          "data": {
            "text/plain": [
              "((100, 10), (10, 1), (750, 100))"
            ]
          },
          "metadata": {
            "tags": []
          },
          "execution_count": 36
        }
      ]
    },
    {
      "cell_type": "code",
      "metadata": {
        "id": "70sA9_GZrhXT",
        "outputId": "77df63e6-40c9-4e85-9935-9d55d2f67073",
        "colab": {
          "base_uri": "https://localhost:8080/",
          "height": 443
        }
      },
      "source": [
        "for i in range(100):\n",
        "    y1 = X @ b1\n",
        "    z1 = np.tanh(y1)\n",
        "    y2 = z1 @ b2\n",
        "    print(b2.shape, y2.shape)\n",
        "    db2 = z1.T @ (2*(y2 - y[:, None]))\n",
        "    b2 = b2 - (lr * db2)\n",
        "    print(db2.shape, b2.shape)\n",
        "\n",
        "    db1_1 = 2*(y2 - y)\n",
        "    db1_2 = b2\n",
        "    db1_3 = 1-z1**2\n",
        "    db1_4 = X\n",
        "    db1 = np.linalg.multi_dot([db1_1, db1_2, db1_3, db1_4])\n",
        "    b1 = b1 - (lr * db1)\n",
        "\n",
        "    mse_loss = np.sum((y2 - y) ** 2)\n",
        "    print(f'MSE after {i+1} step: {mse_loss}')"
      ],
      "execution_count": 37,
      "outputs": [
        {
          "output_type": "stream",
          "text": [
            "(10, 1) (1000, 1)\n",
            "(10, 1) (10, 1)\n"
          ],
          "name": "stdout"
        },
        {
          "output_type": "error",
          "ename": "ValueError",
          "evalue": "ignored",
          "traceback": [
            "\u001b[0;31m---------------------------------------------------------------------------\u001b[0m",
            "\u001b[0;31mValueError\u001b[0m                                Traceback (most recent call last)",
            "\u001b[0;32m<ipython-input-37-654887637096>\u001b[0m in \u001b[0;36m<module>\u001b[0;34m()\u001b[0m\n\u001b[1;32m     12\u001b[0m     \u001b[0mdb1_3\u001b[0m \u001b[0;34m=\u001b[0m \u001b[0;36m1\u001b[0m\u001b[0;34m-\u001b[0m\u001b[0mz1\u001b[0m\u001b[0;34m**\u001b[0m\u001b[0;36m2\u001b[0m\u001b[0;34m\u001b[0m\u001b[0;34m\u001b[0m\u001b[0m\n\u001b[1;32m     13\u001b[0m     \u001b[0mdb1_4\u001b[0m \u001b[0;34m=\u001b[0m \u001b[0mX\u001b[0m\u001b[0;34m\u001b[0m\u001b[0;34m\u001b[0m\u001b[0m\n\u001b[0;32m---> 14\u001b[0;31m     \u001b[0mdb1\u001b[0m \u001b[0;34m=\u001b[0m \u001b[0mnp\u001b[0m\u001b[0;34m.\u001b[0m\u001b[0mlinalg\u001b[0m\u001b[0;34m.\u001b[0m\u001b[0mmulti_dot\u001b[0m\u001b[0;34m(\u001b[0m\u001b[0;34m[\u001b[0m\u001b[0mdb1_1\u001b[0m\u001b[0;34m,\u001b[0m \u001b[0mdb1_2\u001b[0m\u001b[0;34m,\u001b[0m \u001b[0mdb1_3\u001b[0m\u001b[0;34m,\u001b[0m \u001b[0mdb1_4\u001b[0m\u001b[0;34m]\u001b[0m\u001b[0;34m)\u001b[0m\u001b[0;34m\u001b[0m\u001b[0;34m\u001b[0m\u001b[0m\n\u001b[0m\u001b[1;32m     15\u001b[0m     \u001b[0mb1\u001b[0m \u001b[0;34m=\u001b[0m \u001b[0mb1\u001b[0m \u001b[0;34m-\u001b[0m \u001b[0;34m(\u001b[0m\u001b[0mlr\u001b[0m \u001b[0;34m*\u001b[0m \u001b[0mdb1\u001b[0m\u001b[0;34m)\u001b[0m\u001b[0;34m\u001b[0m\u001b[0;34m\u001b[0m\u001b[0m\n\u001b[1;32m     16\u001b[0m \u001b[0;34m\u001b[0m\u001b[0m\n",
            "\u001b[0;32m<__array_function__ internals>\u001b[0m in \u001b[0;36mmulti_dot\u001b[0;34m(*args, **kwargs)\u001b[0m\n",
            "\u001b[0;32m/usr/local/lib/python3.6/dist-packages/numpy/linalg/linalg.py\u001b[0m in \u001b[0;36mmulti_dot\u001b[0;34m(arrays)\u001b[0m\n\u001b[1;32m   2665\u001b[0m     \u001b[0;32melse\u001b[0m\u001b[0;34m:\u001b[0m\u001b[0;34m\u001b[0m\u001b[0;34m\u001b[0m\u001b[0m\n\u001b[1;32m   2666\u001b[0m         \u001b[0morder\u001b[0m \u001b[0;34m=\u001b[0m \u001b[0m_multi_dot_matrix_chain_order\u001b[0m\u001b[0;34m(\u001b[0m\u001b[0marrays\u001b[0m\u001b[0;34m)\u001b[0m\u001b[0;34m\u001b[0m\u001b[0;34m\u001b[0m\u001b[0m\n\u001b[0;32m-> 2667\u001b[0;31m         \u001b[0mresult\u001b[0m \u001b[0;34m=\u001b[0m \u001b[0m_multi_dot\u001b[0m\u001b[0;34m(\u001b[0m\u001b[0marrays\u001b[0m\u001b[0;34m,\u001b[0m \u001b[0morder\u001b[0m\u001b[0;34m,\u001b[0m \u001b[0;36m0\u001b[0m\u001b[0;34m,\u001b[0m \u001b[0mn\u001b[0m \u001b[0;34m-\u001b[0m \u001b[0;36m1\u001b[0m\u001b[0;34m)\u001b[0m\u001b[0;34m\u001b[0m\u001b[0;34m\u001b[0m\u001b[0m\n\u001b[0m\u001b[1;32m   2668\u001b[0m \u001b[0;34m\u001b[0m\u001b[0m\n\u001b[1;32m   2669\u001b[0m     \u001b[0;31m# return proper shape\u001b[0m\u001b[0;34m\u001b[0m\u001b[0;34m\u001b[0m\u001b[0;34m\u001b[0m\u001b[0m\n",
            "\u001b[0;32m/usr/local/lib/python3.6/dist-packages/numpy/linalg/linalg.py\u001b[0m in \u001b[0;36m_multi_dot\u001b[0;34m(arrays, order, i, j)\u001b[0m\n\u001b[1;32m   2744\u001b[0m     \u001b[0;32melse\u001b[0m\u001b[0;34m:\u001b[0m\u001b[0;34m\u001b[0m\u001b[0;34m\u001b[0m\u001b[0m\n\u001b[1;32m   2745\u001b[0m         return dot(_multi_dot(arrays, order, i, order[i, j]),\n\u001b[0;32m-> 2746\u001b[0;31m                    _multi_dot(arrays, order, order[i, j] + 1, j))\n\u001b[0m",
            "\u001b[0;32m/usr/local/lib/python3.6/dist-packages/numpy/linalg/linalg.py\u001b[0m in \u001b[0;36m_multi_dot\u001b[0;34m(arrays, order, i, j)\u001b[0m\n\u001b[1;32m   2743\u001b[0m         \u001b[0;32mreturn\u001b[0m \u001b[0marrays\u001b[0m\u001b[0;34m[\u001b[0m\u001b[0mi\u001b[0m\u001b[0;34m]\u001b[0m\u001b[0;34m\u001b[0m\u001b[0;34m\u001b[0m\u001b[0m\n\u001b[1;32m   2744\u001b[0m     \u001b[0;32melse\u001b[0m\u001b[0;34m:\u001b[0m\u001b[0;34m\u001b[0m\u001b[0;34m\u001b[0m\u001b[0m\n\u001b[0;32m-> 2745\u001b[0;31m         return dot(_multi_dot(arrays, order, i, order[i, j]),\n\u001b[0m\u001b[1;32m   2746\u001b[0m                    _multi_dot(arrays, order, order[i, j] + 1, j))\n",
            "\u001b[0;32m/usr/local/lib/python3.6/dist-packages/numpy/linalg/linalg.py\u001b[0m in \u001b[0;36m_multi_dot\u001b[0;34m(arrays, order, i, j)\u001b[0m\n\u001b[1;32m   2744\u001b[0m     \u001b[0;32melse\u001b[0m\u001b[0;34m:\u001b[0m\u001b[0;34m\u001b[0m\u001b[0;34m\u001b[0m\u001b[0m\n\u001b[1;32m   2745\u001b[0m         return dot(_multi_dot(arrays, order, i, order[i, j]),\n\u001b[0;32m-> 2746\u001b[0;31m                    _multi_dot(arrays, order, order[i, j] + 1, j))\n\u001b[0m",
            "\u001b[0;32m<__array_function__ internals>\u001b[0m in \u001b[0;36mdot\u001b[0;34m(*args, **kwargs)\u001b[0m\n",
            "\u001b[0;31mValueError\u001b[0m: shapes (10,1) and (1000,10) not aligned: 1 (dim 1) != 1000 (dim 0)"
          ]
        }
      ]
    },
    {
      "cell_type": "code",
      "metadata": {
        "id": "Un41sj3CjSoG",
        "outputId": "57482e40-4bce-4759-8213-283e0e62dca4",
        "colab": {
          "base_uri": "https://localhost:8080/"
        }
      },
      "source": [
        "a=1 - np.sinh(X @ b1)**2\n",
        "X.shape, b1.shape, a.shape"
      ],
      "execution_count": 16,
      "outputs": [
        {
          "output_type": "execute_result",
          "data": {
            "text/plain": [
              "((1000, 100), (100, 10), (1000, 10))"
            ]
          },
          "metadata": {
            "tags": []
          },
          "execution_count": 16
        }
      ]
    },
    {
      "cell_type": "code",
      "metadata": {
        "id": "rr4DSsEOrhXX",
        "outputId": "562afecb-3eb0-4a47-8fc7-fc277a7755cf",
        "colab": {
          "base_uri": "https://localhost:8080/"
        }
      },
      "source": [
        "y1.shape, z1.shape, y2.shape, db2.shape, b2.shape"
      ],
      "execution_count": 21,
      "outputs": [
        {
          "output_type": "execute_result",
          "data": {
            "text/plain": [
              "((1000, 10), (1000, 10), (1000, 1000), (10, 1000), (10, 1000))"
            ]
          },
          "metadata": {
            "tags": []
          },
          "execution_count": 21
        }
      ]
    },
    {
      "cell_type": "code",
      "metadata": {
        "id": "z9UWOCLnrhXa"
      },
      "source": [
        ""
      ],
      "execution_count": null,
      "outputs": []
    }
  ]
}