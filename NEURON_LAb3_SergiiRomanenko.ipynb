{
  "nbformat": 4,
  "nbformat_minor": 0,
  "metadata": {
    "colab": {
      "provenance": [],
      "include_colab_link": true
    },
    "kernelspec": {
      "name": "python3",
      "display_name": "Python 3"
    },
    "language_info": {
      "name": "python"
    }
  },
  "cells": [
    {
      "cell_type": "markdown",
      "metadata": {
        "id": "view-in-github",
        "colab_type": "text"
      },
      "source": [
        "<a href=\"https://colab.research.google.com/github/SergiiRv/first/blob/master/NEURON_LAb3_SergiiRomanenko.ipynb\" target=\"_parent\"><img src=\"https://colab.research.google.com/assets/colab-badge.svg\" alt=\"Open In Colab\"/></a>"
      ]
    },
    {
      "cell_type": "code",
      "execution_count": 1,
      "metadata": {
        "colab": {
          "base_uri": "https://localhost:8080/"
        },
        "id": "ijMXPu3BO1SN",
        "outputId": "261fae15-6fd7-4124-9fbd-4cf8ab5af88f"
      },
      "outputs": [
        {
          "output_type": "stream",
          "name": "stdout",
          "text": [
            "Collecting neuron\n",
            "  Downloading NEURON-8.2.4-cp310-cp310-manylinux_2_17_x86_64.manylinux2014_x86_64.whl (15.0 MB)\n",
            "\u001b[2K     \u001b[90m━━━━━━━━━━━━━━━━━━━━━━━━━━━━━━━━━━━━━━━━\u001b[0m \u001b[32m15.0/15.0 MB\u001b[0m \u001b[31m16.1 MB/s\u001b[0m eta \u001b[36m0:00:00\u001b[0m\n",
            "\u001b[?25hRequirement already satisfied: numpy>=1.9.3 in /usr/local/lib/python3.10/dist-packages (from neuron) (1.25.2)\n",
            "Requirement already satisfied: packaging in /usr/local/lib/python3.10/dist-packages (from neuron) (24.0)\n",
            "Collecting find-libpython (from neuron)\n",
            "  Downloading find_libpython-0.4.0-py3-none-any.whl (8.7 kB)\n",
            "Requirement already satisfied: setuptools in /usr/local/lib/python3.10/dist-packages (from neuron) (67.7.2)\n",
            "Installing collected packages: find-libpython, neuron\n",
            "Successfully installed find-libpython-0.4.0 neuron-8.2.4\n"
          ]
        }
      ],
      "source": [
        "!pip install neuron"
      ]
    },
    {
      "cell_type": "code",
      "source": [
        "from google.colab import drive\n",
        "drive.mount('/content/drive/')"
      ],
      "metadata": {
        "colab": {
          "base_uri": "https://localhost:8080/"
        },
        "id": "Gdq3j1xiPGdg",
        "outputId": "7b51a189-2c9d-43f6-c102-520a411e33e2"
      },
      "execution_count": 2,
      "outputs": [
        {
          "output_type": "stream",
          "name": "stdout",
          "text": [
            "Mounted at /content/drive/\n"
          ]
        }
      ]
    },
    {
      "cell_type": "code",
      "source": [],
      "metadata": {
        "id": "lpUxSIuFyogL"
      },
      "execution_count": null,
      "outputs": []
    },
    {
      "cell_type": "code",
      "source": [
        "!unzip /content/drive/MyDrive/mods.zip"
      ],
      "metadata": {
        "colab": {
          "base_uri": "https://localhost:8080/"
        },
        "id": "1ukbJ4SYPMr8",
        "outputId": "36b7228c-c7ba-46df-fb49-9d96c9a18214"
      },
      "execution_count": 3,
      "outputs": [
        {
          "output_type": "stream",
          "name": "stdout",
          "text": [
            "Archive:  /content/drive/MyDrive/mods.zip\n",
            "   creating: mods/\n",
            "  inflating: mods/cad.mod            \n",
            "  inflating: mods/ca.mod             \n",
            "  inflating: mods/kca.mod            \n",
            "  inflating: mods/km.mod             \n",
            "  inflating: mods/kv.mod             \n",
            "  inflating: mods/na.mod             \n"
          ]
        }
      ]
    },
    {
      "cell_type": "code",
      "source": [
        "!nrnivmodl mods"
      ],
      "metadata": {
        "colab": {
          "base_uri": "https://localhost:8080/"
        },
        "id": "0LugStxTPd7L",
        "outputId": "d0d34bbf-2757-4086-ce0f-a14cb4120d7f"
      },
      "execution_count": 4,
      "outputs": [
        {
          "output_type": "stream",
          "name": "stdout",
          "text": [
            "/content\n",
            "Mod files: \"mods/mods/cad.mod\" \"mods/mods/ca.mod\" \"mods/mods/kca.mod\" \"mods/mods/km.mod\" \"mods/mods/kv.mod\" \"mods/mods/na.mod\"\n",
            "\n",
            "Creating 'x86_64' directory for .o files.\n",
            "\n",
            " -> \u001b[32mCompiling\u001b[0m mod_func.cpp\n",
            " -> \u001b[32mNMODL\u001b[0m ../mods/cad.mod\n",
            " -> \u001b[32mNMODL\u001b[0m ../mods/ca.mod\n",
            " -> \u001b[32mNMODL\u001b[0m ../mods/kca.mod\n",
            "Translating cad.mod into /content/x86_64/cad.c\n",
            "Translating kca.mod into /content/x86_64/kca.c\n",
            "Thread Safe\n",
            "Translating ca.mod into /content/x86_64/ca.c\n",
            "Thread Safe\n",
            "Thread Safe\n",
            " -> \u001b[32mNMODL\u001b[0m ../mods/km.mod\n",
            " -> \u001b[32mNMODL\u001b[0m ../mods/kv.mod\n",
            " -> \u001b[32mNMODL\u001b[0m ../mods/na.mod\n",
            "Translating km.mod into /content/x86_64/km.c\n",
            "Thread Safe\n",
            "Translating na.mod into /content/x86_64/na.c\n",
            "Translating kv.mod into /content/x86_64/kv.c\n",
            "Thread Safe\n",
            " -> \u001b[32mCompiling\u001b[0m cad.c\n",
            " -> \u001b[32mCompiling\u001b[0m ca.c\n",
            "Thread Safe\n",
            " -> \u001b[32mCompiling\u001b[0m kca.c\n",
            " -> \u001b[32mCompiling\u001b[0m km.c\n",
            " -> \u001b[32mCompiling\u001b[0m kv.c\n",
            " -> \u001b[32mCompiling\u001b[0m na.c\n",
            " => \u001b[32mLINKING\u001b[0m shared library ./libnrnmech.so\n",
            " => \u001b[32mLINKING\u001b[0m executable ./special LDFLAGS are:    -pthread\n",
            "Successfully created x86_64/special\n"
          ]
        }
      ]
    },
    {
      "cell_type": "code",
      "source": [
        "%matplotlib inline\n",
        "from numpy import *\n",
        "from numpy import random as rnd\n",
        "from matplotlib.pyplot import *\n",
        "from neuron import h\n",
        "import seaborn as sns\n",
        "import pandas as pd"
      ],
      "metadata": {
        "id": "rdWCdv2yyv3B"
      },
      "execution_count": 6,
      "outputs": []
    },
    {
      "cell_type": "code",
      "source": [
        "h.dt = 0.05"
      ],
      "metadata": {
        "id": "DZsGfkd-y8_X"
      },
      "execution_count": 7,
      "outputs": []
    },
    {
      "cell_type": "code",
      "source": [
        "h.celsius = 37\n",
        "class neuron:\n",
        "  def __init__(self, excsyn: bool, inhsyn:bool):\n",
        "    self.dend = h.Section()\n",
        "    self.Ra = copy(self.dend.Ra)\n",
        "    self.dend.diam = 10/pi\n",
        "    self.dend.nseg = 1\n",
        "    self.axon = h.Section()\n",
        "    self.axon.nseg = 1\n",
        "    self.axon.diam = 10/pi\n",
        "    self.axon.L = 10\n",
        "    self.axon.connect(self.dend(1), 0)\n",
        "\n",
        "    for ionch in 'na km kca ca cad pas'.split():\n",
        "      self.dend.insert(ionch)\n",
        "\n",
        "    for ionch in 'na', 'kv':\n",
        "      self.axon.insert(ionch)\n",
        "\n",
        "    self.dend.cm = 0.75\n",
        "    self.axon.cm = 0.75\n",
        "\n",
        "    self.axon.ek = -90\n",
        "    self.dend.ek = -90\n",
        "    self.dend.ena = 60\n",
        "    self.axon.ena = 60\n",
        "    self.dend.eca = 140\n",
        "\n",
        "    self.dend.g_pas =1/30000\n",
        "    self.dend.e_pas = -70\n",
        "    self.dend.gbar_na = 15\n",
        "    self.dend.gbar_ca = 0.3\n",
        "    self.dend.gbar_km = 0.1\n",
        "    self.dend.gbar_kca = 3\n",
        "\n",
        "    self.axon.gbar_na = 30000\n",
        "    self.axon.gbar_kv = 1500\n",
        "\n",
        "  def set(self, rho:float = 160, kappa:float = 30):\n",
        "    self.dend.L = rho*self.axon.L\n",
        "    self.dend.Ra = self.Ra*kappa/h.ri(0.5, sec = self.dend)\n",
        "\n",
        "\n",
        "\n",
        "\n"
      ],
      "metadata": {
        "id": "nB8eTiv1zIU6"
      },
      "execution_count": 11,
      "outputs": []
    },
    {
      "cell_type": "code",
      "source": [
        "n = neuron(False, False)\n",
        "#n.set(rho =160, kappa = 30)\n",
        "n.set(rho = 260, kappa = 8)\n",
        "\n",
        "va, vd = h.Vector(), h.Vector()\n",
        "va.record(n.axon(0.5)._ref_v, sec = n.axon)\n",
        "vd.record(n.dend(0.5)._ref_v, sec = n.dend)\n",
        "\n",
        "ic = h.IClamp(0.5, n.dend, sec = n.dend)\n",
        "ic.delay = 30\n",
        "ic.dur = 1000\n",
        "ic.amp = 0.1\n",
        "\n",
        "h.finitialize(-70)\n",
        "h.fcurrent()\n",
        "h.frecord_init()\n",
        "\n",
        "h.t = 0\n",
        "\n",
        "while h.t < 1060: h.fadvance()\n",
        "\n",
        "va = array(va)\n",
        "vd = array(vd)\n",
        "vt = arange(va.shape[0])*h.dt\n",
        "plot(vt, va, \"-\", label = \"axon\")\n",
        "plot(vt, vd, \"-\", label = \"dend\")\n"
      ],
      "metadata": {
        "colab": {
          "base_uri": "https://localhost:8080/",
          "height": 448
        },
        "id": "mG247m0k6bTs",
        "outputId": "5e308f5c-ecb2-4023-9055-3be1d6d44672"
      },
      "execution_count": 13,
      "outputs": [
        {
          "output_type": "execute_result",
          "data": {
            "text/plain": [
              "[<matplotlib.lines.Line2D at 0x7e390a3a5390>]"
            ]
          },
          "metadata": {},
          "execution_count": 13
        },
        {
          "output_type": "display_data",
          "data": {
            "text/plain": [
              "<Figure size 640x480 with 1 Axes>"
            ],
            "image/png": "[encoded data removed]"
          },
          "metadata": {}
        }
      ]
    },
    {
      "cell_type": "code",
      "source": [],
      "metadata": {
        "id": "VQuL8sjT8T47"
      },
      "execution_count": null,
      "outputs": []
    }
  ]
}